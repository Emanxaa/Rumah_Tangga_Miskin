{
 "cells": [
  {
   "cell_type": "code",
   "execution_count": 2,
   "id": "491a659c",
   "metadata": {},
   "outputs": [],
   "source": [
    "#Libraries Preprocessing\n",
    "import pandas as pd\n",
    "from sklearn.model_selection import train_test_split\n",
    "from sklearn.preprocessing import StandardScaler\n"
   ]
  },
  {
   "cell_type": "code",
   "execution_count": 3,
   "id": "3a27d754",
   "metadata": {},
   "outputs": [],
   "source": [
    "data=pd.read_excel(\"D:\\DATAS\\ALDEN\\DATA ALDEN.xlsx\")"
   ]
  },
  {
   "cell_type": "code",
   "execution_count": 4,
   "id": "d5d2fd0b",
   "metadata": {},
   "outputs": [
    {
     "data": {
      "application/vnd.microsoft.datawrangler.viewer.v0+json": {
       "columns": [
        {
         "name": "index",
         "rawType": "int64",
         "type": "integer"
        },
        {
         "name": "Y",
         "rawType": "int64",
         "type": "integer"
        },
        {
         "name": "X1",
         "rawType": "int64",
         "type": "integer"
        },
        {
         "name": "X2",
         "rawType": "int64",
         "type": "integer"
        },
        {
         "name": "X3",
         "rawType": "int64",
         "type": "integer"
        },
        {
         "name": "X4",
         "rawType": "int64",
         "type": "integer"
        },
        {
         "name": "X5",
         "rawType": "int64",
         "type": "integer"
        },
        {
         "name": "X6",
         "rawType": "int64",
         "type": "integer"
        },
        {
         "name": "X7",
         "rawType": "int64",
         "type": "integer"
        },
        {
         "name": "X8",
         "rawType": "int64",
         "type": "integer"
        },
        {
         "name": "X9",
         "rawType": "int64",
         "type": "integer"
        },
        {
         "name": "X10",
         "rawType": "int64",
         "type": "integer"
        },
        {
         "name": "X11",
         "rawType": "int64",
         "type": "integer"
        },
        {
         "name": "X12",
         "rawType": "int64",
         "type": "integer"
        },
        {
         "name": "X13",
         "rawType": "int64",
         "type": "integer"
        },
        {
         "name": "X14",
         "rawType": "int64",
         "type": "integer"
        },
        {
         "name": "X15",
         "rawType": "int64",
         "type": "integer"
        },
        {
         "name": "X16",
         "rawType": "int64",
         "type": "integer"
        },
        {
         "name": "X17",
         "rawType": "int64",
         "type": "integer"
        }
       ],
       "ref": "d13ca76d-3879-4880-b6a5-38d422d95d87",
       "rows": [
        [
         "0",
         "1",
         "1",
         "60",
         "1",
         "2",
         "1",
         "7",
         "7",
         "1",
         "5",
         "5",
         "1",
         "5",
         "5",
         "2",
         "83",
         "13",
         "0"
        ],
        [
         "1",
         "1",
         "1",
         "54",
         "1",
         "2",
         "1",
         "7",
         "7",
         "1",
         "5",
         "5",
         "5",
         "5",
         "5",
         "4",
         "80",
         "3",
         "0"
        ]
       ],
       "shape": {
        "columns": 18,
        "rows": 2
       }
      },
      "text/html": [
       "<div>\n",
       "<style scoped>\n",
       "    .dataframe tbody tr th:only-of-type {\n",
       "        vertical-align: middle;\n",
       "    }\n",
       "\n",
       "    .dataframe tbody tr th {\n",
       "        vertical-align: top;\n",
       "    }\n",
       "\n",
       "    .dataframe thead th {\n",
       "        text-align: right;\n",
       "    }\n",
       "</style>\n",
       "<table border=\"1\" class=\"dataframe\">\n",
       "  <thead>\n",
       "    <tr style=\"text-align: right;\">\n",
       "      <th></th>\n",
       "      <th>Y</th>\n",
       "      <th>X1</th>\n",
       "      <th>X2</th>\n",
       "      <th>X3</th>\n",
       "      <th>X4</th>\n",
       "      <th>X5</th>\n",
       "      <th>X6</th>\n",
       "      <th>X7</th>\n",
       "      <th>X8</th>\n",
       "      <th>X9</th>\n",
       "      <th>X10</th>\n",
       "      <th>X11</th>\n",
       "      <th>X12</th>\n",
       "      <th>X13</th>\n",
       "      <th>X14</th>\n",
       "      <th>X15</th>\n",
       "      <th>X16</th>\n",
       "      <th>X17</th>\n",
       "    </tr>\n",
       "  </thead>\n",
       "  <tbody>\n",
       "    <tr>\n",
       "      <th>0</th>\n",
       "      <td>1</td>\n",
       "      <td>1</td>\n",
       "      <td>60</td>\n",
       "      <td>1</td>\n",
       "      <td>2</td>\n",
       "      <td>1</td>\n",
       "      <td>7</td>\n",
       "      <td>7</td>\n",
       "      <td>1</td>\n",
       "      <td>5</td>\n",
       "      <td>5</td>\n",
       "      <td>1</td>\n",
       "      <td>5</td>\n",
       "      <td>5</td>\n",
       "      <td>2</td>\n",
       "      <td>83</td>\n",
       "      <td>13</td>\n",
       "      <td>0</td>\n",
       "    </tr>\n",
       "    <tr>\n",
       "      <th>1</th>\n",
       "      <td>1</td>\n",
       "      <td>1</td>\n",
       "      <td>54</td>\n",
       "      <td>1</td>\n",
       "      <td>2</td>\n",
       "      <td>1</td>\n",
       "      <td>7</td>\n",
       "      <td>7</td>\n",
       "      <td>1</td>\n",
       "      <td>5</td>\n",
       "      <td>5</td>\n",
       "      <td>5</td>\n",
       "      <td>5</td>\n",
       "      <td>5</td>\n",
       "      <td>4</td>\n",
       "      <td>80</td>\n",
       "      <td>3</td>\n",
       "      <td>0</td>\n",
       "    </tr>\n",
       "  </tbody>\n",
       "</table>\n",
       "</div>"
      ],
      "text/plain": [
       "   Y  X1  X2  X3  X4  X5  X6  X7  X8  X9  X10  X11  X12  X13  X14  X15  X16  \\\n",
       "0  1   1  60   1   2   1   7   7   1   5    5    1    5    5    2   83   13   \n",
       "1  1   1  54   1   2   1   7   7   1   5    5    5    5    5    4   80    3   \n",
       "\n",
       "   X17  \n",
       "0    0  \n",
       "1    0  "
      ]
     },
     "execution_count": 4,
     "metadata": {},
     "output_type": "execute_result"
    }
   ],
   "source": [
    "df=data.drop(columns='Kab')\n",
    "df.head(2)"
   ]
  },
  {
   "cell_type": "code",
   "execution_count": 5,
   "id": "9bf04e65",
   "metadata": {},
   "outputs": [],
   "source": [
    "x=df.drop(columns='Y')\n",
    "y=df['Y']"
   ]
  },
  {
   "cell_type": "code",
   "execution_count": 6,
   "id": "8bb25686",
   "metadata": {},
   "outputs": [],
   "source": [
    "x_insample, x_outsample, y_insample, y_outsample = train_test_split(x,y, test_size=0.1, random_state=42,shuffle=True)"
   ]
  },
  {
   "cell_type": "code",
   "execution_count": 7,
   "id": "8c3b4a46",
   "metadata": {},
   "outputs": [],
   "source": [
    "#Library Base Model\n",
    "from sklearn.linear_model import LogisticRegression\n",
    "from sklearn.discriminant_analysis import LinearDiscriminantAnalysis\n",
    "from sklearn.tree import DecisionTreeClassifier\n",
    "from sklearn.pipeline import Pipeline\n",
    "from sklearn.model_selection import RandomizedSearchCV\n",
    "from sklearn.model_selection import KFold, cross_val_score\n",
    "from sklearn.metrics import (\n",
    "    accuracy_score, precision_score, recall_score,\n",
    "    f1_score, roc_auc_score, log_loss\n",
    ")"
   ]
  },
  {
   "cell_type": "code",
   "execution_count": 8,
   "id": "942f7b7b",
   "metadata": {},
   "outputs": [],
   "source": [
    "models = {\n",
    "    \"LR\": LogisticRegression(max_iter=1000, random_state=42),\n",
    "    \"LR Scaled\": Pipeline([(\"scaler\", StandardScaler()), \n",
    "                           (\"lr\", LogisticRegression(max_iter=1000, random_state=42))]),\n",
    "    \"LDA\": LinearDiscriminantAnalysis(),\n",
    "    \"DT\": DecisionTreeClassifier(random_state=42)\n",
    "}"
   ]
  },
  {
   "cell_type": "code",
   "execution_count": 9,
   "id": "9a638e0a",
   "metadata": {},
   "outputs": [],
   "source": [
    "param_distributions = {\n",
    "    \"LR\": {\n",
    "        \"C\": [0.01, 0.1, 1, 10, 100],\n",
    "        \"solver\": [\"lbfgs\", \"liblinear\", \"saga\"]\n",
    "    },\n",
    "    \"LR Scaled\": {\n",
    "        \"lr__C\": [0.01, 0.1, 1, 10, 100],\n",
    "        \"lr__solver\": [\"lbfgs\", \"liblinear\", \"saga\"]\n",
    "    },\n",
    "    \"LDA\": {\n",
    "        \"solver\": [\"svd\", \"lsqr\", \"eigen\"],\n",
    "        \"shrinkage\": [None, \"auto\", 0.1, 0.5, 0.9]\n",
    "    },\n",
    "    \"DT\": {\n",
    "        \"max_depth\": [3, 5, 10, None],\n",
    "        \"min_samples_split\": [2, 5, 10],\n",
    "        \"min_samples_leaf\": [1, 2, 4],\n",
    "        \"criterion\": [\"gini\", \"entropy\"]\n",
    "    }\n",
    "}\n"
   ]
  },
  {
   "cell_type": "code",
   "execution_count": 10,
   "id": "880d52a4",
   "metadata": {},
   "outputs": [],
   "source": [
    "metrics = {\n",
    "    \"Accuracy\": lambda y_true, y_pred, y_proba: accuracy_score(y_true, y_pred),\n",
    "    \"Precision\": lambda y_true, y_pred, y_proba: precision_score(y_true, y_pred),\n",
    "    \"Recall\": lambda y_true, y_pred, y_proba: recall_score(y_true, y_pred),\n",
    "    \"F1\": lambda y_true, y_pred, y_proba: f1_score(y_true, y_pred),\n",
    "    \"ROC-AUC\": lambda y_true, y_pred, y_proba: roc_auc_score(y_true, y_proba),\n",
    "    \"LogLoss\": lambda y_true, y_pred, y_proba: log_loss(y_true, y_proba),\n",
    "}"
   ]
  },
  {
   "cell_type": "code",
   "execution_count": 11,
   "id": "76277787",
   "metadata": {},
   "outputs": [],
   "source": [
    "best_models = {}\n",
    "results = {}"
   ]
  },
  {
   "cell_type": "code",
   "execution_count": 12,
   "id": "793c46c5",
   "metadata": {},
   "outputs": [],
   "source": [
    "kfold = KFold(n_splits=10, shuffle=True, random_state=42)"
   ]
  },
  {
   "cell_type": "code",
   "execution_count": 13,
   "id": "446e63d2",
   "metadata": {},
   "outputs": [
    {
     "name": "stdout",
     "output_type": "stream",
     "text": [
      "\n",
      "Tuning LR...\n"
     ]
    },
    {
     "name": "stderr",
     "output_type": "stream",
     "text": [
      "c:\\Users\\emanu\\AppData\\Local\\Programs\\Python\\Python311\\Lib\\site-packages\\sklearn\\model_selection\\_search.py:318: UserWarning: The total space of parameters 15 is smaller than n_iter=30. Running 15 iterations. For exhaustive searches, use GridSearchCV.\n",
      "  warnings.warn(\n"
     ]
    },
    {
     "name": "stdout",
     "output_type": "stream",
     "text": [
      "\n",
      "Tuning LR Scaled...\n"
     ]
    },
    {
     "name": "stderr",
     "output_type": "stream",
     "text": [
      "c:\\Users\\emanu\\AppData\\Local\\Programs\\Python\\Python311\\Lib\\site-packages\\sklearn\\model_selection\\_search.py:318: UserWarning: The total space of parameters 15 is smaller than n_iter=30. Running 15 iterations. For exhaustive searches, use GridSearchCV.\n",
      "  warnings.warn(\n"
     ]
    },
    {
     "name": "stdout",
     "output_type": "stream",
     "text": [
      "\n",
      "Tuning LDA...\n"
     ]
    },
    {
     "name": "stderr",
     "output_type": "stream",
     "text": [
      "c:\\Users\\emanu\\AppData\\Local\\Programs\\Python\\Python311\\Lib\\site-packages\\sklearn\\model_selection\\_search.py:318: UserWarning: The total space of parameters 15 is smaller than n_iter=30. Running 15 iterations. For exhaustive searches, use GridSearchCV.\n",
      "  warnings.warn(\n",
      "c:\\Users\\emanu\\AppData\\Local\\Programs\\Python\\Python311\\Lib\\site-packages\\sklearn\\model_selection\\_validation.py:547: FitFailedWarning: \n",
      "40 fits failed out of a total of 150.\n",
      "The score on these train-test partitions for these parameters will be set to nan.\n",
      "If these failures are not expected, you can try to debug them by setting error_score='raise'.\n",
      "\n",
      "Below are more details about the failures:\n",
      "--------------------------------------------------------------------------------\n",
      "40 fits failed with the following error:\n",
      "Traceback (most recent call last):\n",
      "  File \"c:\\Users\\emanu\\AppData\\Local\\Programs\\Python\\Python311\\Lib\\site-packages\\sklearn\\model_selection\\_validation.py\", line 895, in _fit_and_score\n",
      "    estimator.fit(X_train, y_train, **fit_params)\n",
      "  File \"c:\\Users\\emanu\\AppData\\Local\\Programs\\Python\\Python311\\Lib\\site-packages\\sklearn\\base.py\", line 1474, in wrapper\n",
      "    return fit_method(estimator, *args, **kwargs)\n",
      "           ^^^^^^^^^^^^^^^^^^^^^^^^^^^^^^^^^^^^^^\n",
      "  File \"c:\\Users\\emanu\\AppData\\Local\\Programs\\Python\\Python311\\Lib\\site-packages\\sklearn\\discriminant_analysis.py\", line 621, in fit\n",
      "    raise NotImplementedError(\"shrinkage not supported with 'svd' solver.\")\n",
      "NotImplementedError: shrinkage not supported with 'svd' solver.\n",
      "\n",
      "  warnings.warn(some_fits_failed_message, FitFailedWarning)\n",
      "c:\\Users\\emanu\\AppData\\Local\\Programs\\Python\\Python311\\Lib\\site-packages\\sklearn\\model_selection\\_search.py:1051: UserWarning: One or more of the test scores are non-finite: [0.85395222 0.85395222 0.85395222        nan 0.85372779 0.85372779\n",
      "        nan 0.81168324 0.81168324        nan 0.72235191 0.72235191\n",
      "        nan 0.61775973 0.61775973]\n",
      "  warnings.warn(\n"
     ]
    },
    {
     "name": "stdout",
     "output_type": "stream",
     "text": [
      "\n",
      "Tuning DT...\n",
      "       Model                                        Best Params  \\\n",
      "0         LR                      {'solver': 'lbfgs', 'C': 0.1}   \n",
      "1  LR Scaled          {'lr__solver': 'liblinear', 'lr__C': 0.1}   \n",
      "2        LDA               {'solver': 'svd', 'shrinkage': None}   \n",
      "3         DT  {'min_samples_split': 10, 'min_samples_leaf': ...   \n",
      "\n",
      "  Train Accuracy Train Precision Train Recall  Train F1 Train ROC-AUC  \\\n",
      "0       0.870115         0.88745     0.971011  0.927352      0.858492   \n",
      "1       0.870488        0.887341     0.971665  0.927591      0.858632   \n",
      "2       0.865836        0.889897     0.961857  0.924479      0.856747   \n",
      "3       0.865836        0.874347     0.984307  0.926074      0.863743   \n",
      "\n",
      "  Train LogLoss CV ROC-AUC (mean)  \n",
      "0       0.29951          0.854946  \n",
      "1      0.299963          0.855077  \n",
      "2      0.305527          0.853952  \n",
      "3      0.292294          0.839794  \n"
     ]
    }
   ],
   "source": [
    "for name, model in models.items():\n",
    "    print(f\"\\nTuning {name}...\")\n",
    "    search = RandomizedSearchCV(\n",
    "        estimator=model,\n",
    "        param_distributions=param_distributions[name],\n",
    "        n_iter=30,\n",
    "        cv=kfold,\n",
    "        scoring='roc_auc',   # tetap gunakan roc_auc sebagai objective utama\n",
    "        random_state=42,\n",
    "        n_jobs=-1\n",
    "    )\n",
    "    search.fit(x_insample, y_insample)\n",
    "    \n",
    "    best_models[name] = search.best_estimator_\n",
    "    \n",
    "    y_pred = search.predict(x_insample)\n",
    "    y_proba = search.predict_proba(x_insample)[:,1]\n",
    "\n",
    "    # simpan hasil semua metric\n",
    "    result_entry = {\"Best Params\": search.best_params_}\n",
    "    for metric_name, func in metrics.items():\n",
    "        result_entry[f\"Train {metric_name}\"] = func(y_insample, y_pred, y_proba)\n",
    "\n",
    "    # pakai mean cross-val score (scoring utama: roc_auc)\n",
    "    result_entry[\"CV ROC-AUC (mean)\"] = search.best_score_\n",
    "    \n",
    "    results[name] = result_entry\n",
    "\n",
    "# jadi DataFrame\n",
    "results_df = pd.DataFrame(results).T.reset_index().rename(columns={\"index\": \"Model\"})\n",
    "print(results_df.head())"
   ]
  },
  {
   "cell_type": "code",
   "execution_count": 14,
   "id": "5d8a4ce0",
   "metadata": {},
   "outputs": [
    {
     "data": {
      "application/vnd.microsoft.datawrangler.viewer.v0+json": {
       "columns": [
        {
         "name": "index",
         "rawType": "int64",
         "type": "integer"
        },
        {
         "name": "Model",
         "rawType": "object",
         "type": "string"
        },
        {
         "name": "Best Params",
         "rawType": "object",
         "type": "unknown"
        },
        {
         "name": "Train Accuracy",
         "rawType": "object",
         "type": "unknown"
        },
        {
         "name": "Train Precision",
         "rawType": "object",
         "type": "unknown"
        },
        {
         "name": "Train Recall",
         "rawType": "object",
         "type": "unknown"
        },
        {
         "name": "Train F1",
         "rawType": "object",
         "type": "unknown"
        },
        {
         "name": "Train ROC-AUC",
         "rawType": "object",
         "type": "unknown"
        },
        {
         "name": "Train LogLoss",
         "rawType": "object",
         "type": "unknown"
        },
        {
         "name": "CV ROC-AUC (mean)",
         "rawType": "object",
         "type": "unknown"
        }
       ],
       "ref": "88a45121-e4f1-456a-a04f-0f54125ff802",
       "rows": [
        [
         "0",
         "LR",
         "{'solver': 'lbfgs', 'C': 0.1}",
         "0.8701153703014515",
         "0.8874501992031872",
         "0.9710113339145597",
         "0.9273522064945878",
         "0.8584921723003476",
         "0.29951043333808497",
         "0.8549458061668135"
        ],
        [
         "1",
         "LR Scaled",
         "{'lr__solver': 'liblinear', 'lr__C': 0.1}",
         "0.870487532564198",
         "0.8873407643312102",
         "0.9716652136006975",
         "0.9275905118601748",
         "0.8586322101466155",
         "0.29996338792911853",
         "0.8550774849405564"
        ],
        [
         "2",
         "LDA",
         "{'solver': 'svd', 'shrinkage': None}",
         "0.865835504279866",
         "0.8898971566848155",
         "0.9618570183086312",
         "0.9244788938933697",
         "0.8567468293213183",
         "0.30552683565094835",
         "0.8539522175712904"
        ],
        [
         "3",
         "DT",
         "{'min_samples_split': 10, 'min_samples_leaf': 2, 'max_depth': 5, 'criterion': 'entropy'}",
         "0.865835504279866",
         "0.8743465634075508",
         "0.984306887532694",
         "0.9260740285040501",
         "0.8637430369300598",
         "0.2922936822254416",
         "0.8397943686687397"
        ]
       ],
       "shape": {
        "columns": 9,
        "rows": 4
       }
      },
      "text/html": [
       "<div>\n",
       "<style scoped>\n",
       "    .dataframe tbody tr th:only-of-type {\n",
       "        vertical-align: middle;\n",
       "    }\n",
       "\n",
       "    .dataframe tbody tr th {\n",
       "        vertical-align: top;\n",
       "    }\n",
       "\n",
       "    .dataframe thead th {\n",
       "        text-align: right;\n",
       "    }\n",
       "</style>\n",
       "<table border=\"1\" class=\"dataframe\">\n",
       "  <thead>\n",
       "    <tr style=\"text-align: right;\">\n",
       "      <th></th>\n",
       "      <th>Model</th>\n",
       "      <th>Best Params</th>\n",
       "      <th>Train Accuracy</th>\n",
       "      <th>Train Precision</th>\n",
       "      <th>Train Recall</th>\n",
       "      <th>Train F1</th>\n",
       "      <th>Train ROC-AUC</th>\n",
       "      <th>Train LogLoss</th>\n",
       "      <th>CV ROC-AUC (mean)</th>\n",
       "    </tr>\n",
       "  </thead>\n",
       "  <tbody>\n",
       "    <tr>\n",
       "      <th>0</th>\n",
       "      <td>LR</td>\n",
       "      <td>{'solver': 'lbfgs', 'C': 0.1}</td>\n",
       "      <td>0.870115</td>\n",
       "      <td>0.88745</td>\n",
       "      <td>0.971011</td>\n",
       "      <td>0.927352</td>\n",
       "      <td>0.858492</td>\n",
       "      <td>0.29951</td>\n",
       "      <td>0.854946</td>\n",
       "    </tr>\n",
       "    <tr>\n",
       "      <th>1</th>\n",
       "      <td>LR Scaled</td>\n",
       "      <td>{'lr__solver': 'liblinear', 'lr__C': 0.1}</td>\n",
       "      <td>0.870488</td>\n",
       "      <td>0.887341</td>\n",
       "      <td>0.971665</td>\n",
       "      <td>0.927591</td>\n",
       "      <td>0.858632</td>\n",
       "      <td>0.299963</td>\n",
       "      <td>0.855077</td>\n",
       "    </tr>\n",
       "    <tr>\n",
       "      <th>2</th>\n",
       "      <td>LDA</td>\n",
       "      <td>{'solver': 'svd', 'shrinkage': None}</td>\n",
       "      <td>0.865836</td>\n",
       "      <td>0.889897</td>\n",
       "      <td>0.961857</td>\n",
       "      <td>0.924479</td>\n",
       "      <td>0.856747</td>\n",
       "      <td>0.305527</td>\n",
       "      <td>0.853952</td>\n",
       "    </tr>\n",
       "    <tr>\n",
       "      <th>3</th>\n",
       "      <td>DT</td>\n",
       "      <td>{'min_samples_split': 10, 'min_samples_leaf': ...</td>\n",
       "      <td>0.865836</td>\n",
       "      <td>0.874347</td>\n",
       "      <td>0.984307</td>\n",
       "      <td>0.926074</td>\n",
       "      <td>0.863743</td>\n",
       "      <td>0.292294</td>\n",
       "      <td>0.839794</td>\n",
       "    </tr>\n",
       "  </tbody>\n",
       "</table>\n",
       "</div>"
      ],
      "text/plain": [
       "       Model                                        Best Params  \\\n",
       "0         LR                      {'solver': 'lbfgs', 'C': 0.1}   \n",
       "1  LR Scaled          {'lr__solver': 'liblinear', 'lr__C': 0.1}   \n",
       "2        LDA               {'solver': 'svd', 'shrinkage': None}   \n",
       "3         DT  {'min_samples_split': 10, 'min_samples_leaf': ...   \n",
       "\n",
       "  Train Accuracy Train Precision Train Recall  Train F1 Train ROC-AUC  \\\n",
       "0       0.870115         0.88745     0.971011  0.927352      0.858492   \n",
       "1       0.870488        0.887341     0.971665  0.927591      0.858632   \n",
       "2       0.865836        0.889897     0.961857  0.924479      0.856747   \n",
       "3       0.865836        0.874347     0.984307  0.926074      0.863743   \n",
       "\n",
       "  Train LogLoss CV ROC-AUC (mean)  \n",
       "0       0.29951          0.854946  \n",
       "1      0.299963          0.855077  \n",
       "2      0.305527          0.853952  \n",
       "3      0.292294          0.839794  "
      ]
     },
     "execution_count": 14,
     "metadata": {},
     "output_type": "execute_result"
    }
   ],
   "source": [
    "results_df"
   ]
  },
  {
   "cell_type": "code",
   "execution_count": 15,
   "id": "86445ad0",
   "metadata": {},
   "outputs": [
    {
     "data": {
      "application/vnd.microsoft.datawrangler.viewer.v0+json": {
       "columns": [
        {
         "name": "index",
         "rawType": "int64",
         "type": "integer"
        },
        {
         "name": "Model",
         "rawType": "object",
         "type": "string"
        },
        {
         "name": "Best Params",
         "rawType": "object",
         "type": "unknown"
        },
        {
         "name": "Train Accuracy",
         "rawType": "object",
         "type": "unknown"
        },
        {
         "name": "Train Precision",
         "rawType": "object",
         "type": "unknown"
        },
        {
         "name": "Train Recall",
         "rawType": "object",
         "type": "unknown"
        },
        {
         "name": "Train F1",
         "rawType": "object",
         "type": "unknown"
        },
        {
         "name": "Train ROC-AUC",
         "rawType": "object",
         "type": "unknown"
        },
        {
         "name": "Train LogLoss",
         "rawType": "object",
         "type": "unknown"
        },
        {
         "name": "CV ROC-AUC (mean)",
         "rawType": "object",
         "type": "unknown"
        }
       ],
       "ref": "e93ae7ed-3188-4286-a172-e82ce0f3dcf4",
       "rows": [
        [
         "0",
         "LR",
         "{'solver': 'lbfgs', 'C': 0.1}",
         "0.8701153703014515",
         "0.8874501992031872",
         "0.9710113339145597",
         "0.9273522064945878",
         "0.8584921723003476",
         "0.29951043333808497",
         "0.8549458061668135"
        ],
        [
         "1",
         "LR Scaled",
         "{'lr__solver': 'liblinear', 'lr__C': 0.1}",
         "0.870487532564198",
         "0.8873407643312102",
         "0.9716652136006975",
         "0.9275905118601748",
         "0.8586322101466155",
         "0.29996338792911853",
         "0.8550774849405564"
        ],
        [
         "2",
         "LDA",
         "{'solver': 'svd', 'shrinkage': None}",
         "0.865835504279866",
         "0.8898971566848155",
         "0.9618570183086312",
         "0.9244788938933697",
         "0.8567468293213183",
         "0.30552683565094835",
         "0.8539522175712904"
        ],
        [
         "3",
         "DT",
         "{'min_samples_split': 10, 'min_samples_leaf': 2, 'max_depth': 5, 'criterion': 'entropy'}",
         "0.865835504279866",
         "0.8743465634075508",
         "0.984306887532694",
         "0.9260740285040501",
         "0.8637430369300598",
         "0.2922936822254416",
         "0.8397943686687397"
        ]
       ],
       "shape": {
        "columns": 9,
        "rows": 4
       }
      },
      "text/html": [
       "<div>\n",
       "<style scoped>\n",
       "    .dataframe tbody tr th:only-of-type {\n",
       "        vertical-align: middle;\n",
       "    }\n",
       "\n",
       "    .dataframe tbody tr th {\n",
       "        vertical-align: top;\n",
       "    }\n",
       "\n",
       "    .dataframe thead th {\n",
       "        text-align: right;\n",
       "    }\n",
       "</style>\n",
       "<table border=\"1\" class=\"dataframe\">\n",
       "  <thead>\n",
       "    <tr style=\"text-align: right;\">\n",
       "      <th></th>\n",
       "      <th>Model</th>\n",
       "      <th>Best Params</th>\n",
       "      <th>Train Accuracy</th>\n",
       "      <th>Train Precision</th>\n",
       "      <th>Train Recall</th>\n",
       "      <th>Train F1</th>\n",
       "      <th>Train ROC-AUC</th>\n",
       "      <th>Train LogLoss</th>\n",
       "      <th>CV ROC-AUC (mean)</th>\n",
       "    </tr>\n",
       "  </thead>\n",
       "  <tbody>\n",
       "    <tr>\n",
       "      <th>0</th>\n",
       "      <td>LR</td>\n",
       "      <td>{'solver': 'lbfgs', 'C': 0.1}</td>\n",
       "      <td>0.870115</td>\n",
       "      <td>0.88745</td>\n",
       "      <td>0.971011</td>\n",
       "      <td>0.927352</td>\n",
       "      <td>0.858492</td>\n",
       "      <td>0.29951</td>\n",
       "      <td>0.854946</td>\n",
       "    </tr>\n",
       "    <tr>\n",
       "      <th>1</th>\n",
       "      <td>LR Scaled</td>\n",
       "      <td>{'lr__solver': 'liblinear', 'lr__C': 0.1}</td>\n",
       "      <td>0.870488</td>\n",
       "      <td>0.887341</td>\n",
       "      <td>0.971665</td>\n",
       "      <td>0.927591</td>\n",
       "      <td>0.858632</td>\n",
       "      <td>0.299963</td>\n",
       "      <td>0.855077</td>\n",
       "    </tr>\n",
       "    <tr>\n",
       "      <th>2</th>\n",
       "      <td>LDA</td>\n",
       "      <td>{'solver': 'svd', 'shrinkage': None}</td>\n",
       "      <td>0.865836</td>\n",
       "      <td>0.889897</td>\n",
       "      <td>0.961857</td>\n",
       "      <td>0.924479</td>\n",
       "      <td>0.856747</td>\n",
       "      <td>0.305527</td>\n",
       "      <td>0.853952</td>\n",
       "    </tr>\n",
       "    <tr>\n",
       "      <th>3</th>\n",
       "      <td>DT</td>\n",
       "      <td>{'min_samples_split': 10, 'min_samples_leaf': ...</td>\n",
       "      <td>0.865836</td>\n",
       "      <td>0.874347</td>\n",
       "      <td>0.984307</td>\n",
       "      <td>0.926074</td>\n",
       "      <td>0.863743</td>\n",
       "      <td>0.292294</td>\n",
       "      <td>0.839794</td>\n",
       "    </tr>\n",
       "  </tbody>\n",
       "</table>\n",
       "</div>"
      ],
      "text/plain": [
       "       Model                                        Best Params  \\\n",
       "0         LR                      {'solver': 'lbfgs', 'C': 0.1}   \n",
       "1  LR Scaled          {'lr__solver': 'liblinear', 'lr__C': 0.1}   \n",
       "2        LDA               {'solver': 'svd', 'shrinkage': None}   \n",
       "3         DT  {'min_samples_split': 10, 'min_samples_leaf': ...   \n",
       "\n",
       "  Train Accuracy Train Precision Train Recall  Train F1 Train ROC-AUC  \\\n",
       "0       0.870115         0.88745     0.971011  0.927352      0.858492   \n",
       "1       0.870488        0.887341     0.971665  0.927591      0.858632   \n",
       "2       0.865836        0.889897     0.961857  0.924479      0.856747   \n",
       "3       0.865836        0.874347     0.984307  0.926074      0.863743   \n",
       "\n",
       "  Train LogLoss CV ROC-AUC (mean)  \n",
       "0       0.29951          0.854946  \n",
       "1      0.299963          0.855077  \n",
       "2      0.305527          0.853952  \n",
       "3      0.292294          0.839794  "
      ]
     },
     "execution_count": 15,
     "metadata": {},
     "output_type": "execute_result"
    }
   ],
   "source": [
    "results_df"
   ]
  },
  {
   "cell_type": "code",
   "execution_count": 16,
   "id": "03f55185",
   "metadata": {},
   "outputs": [
    {
     "data": {
      "application/vnd.microsoft.datawrangler.viewer.v0+json": {
       "columns": [
        {
         "name": "index",
         "rawType": "object",
         "type": "string"
        },
        {
         "name": "ROC-AUC",
         "rawType": "float64",
         "type": "float"
        },
        {
         "name": "Accuracy",
         "rawType": "float64",
         "type": "float"
        },
        {
         "name": "F1",
         "rawType": "float64",
         "type": "float"
        },
        {
         "name": "LogLoss",
         "rawType": "float64",
         "type": "float"
        }
       ],
       "ref": "9cb99eaa-c7ba-4b9f-95f3-69c2cc3f3932",
       "rows": [
        [
         "LR",
         "0.8998438027693347",
         "0.8745819397993311",
         "0.9283667621776505",
         "0.2763125747089798"
        ],
        [
         "LR Scaled",
         "0.8999282337048294",
         "0.8745819397993311",
         "0.9283667621776505",
         "0.27814312742205966"
        ],
        [
         "LDA",
         "0.9015113137453563",
         "0.8695652173913043",
         "0.9251439539347409",
         "0.27739949754053006"
        ],
        [
         "DT",
         "0.8678444782168186",
         "0.8645484949832776",
         "0.9242282507015903",
         "0.4046623200827035"
        ]
       ],
       "shape": {
        "columns": 4,
        "rows": 4
       }
      },
      "text/html": [
       "<div>\n",
       "<style scoped>\n",
       "    .dataframe tbody tr th:only-of-type {\n",
       "        vertical-align: middle;\n",
       "    }\n",
       "\n",
       "    .dataframe tbody tr th {\n",
       "        vertical-align: top;\n",
       "    }\n",
       "\n",
       "    .dataframe thead th {\n",
       "        text-align: right;\n",
       "    }\n",
       "</style>\n",
       "<table border=\"1\" class=\"dataframe\">\n",
       "  <thead>\n",
       "    <tr style=\"text-align: right;\">\n",
       "      <th></th>\n",
       "      <th>ROC-AUC</th>\n",
       "      <th>Accuracy</th>\n",
       "      <th>F1</th>\n",
       "      <th>LogLoss</th>\n",
       "    </tr>\n",
       "  </thead>\n",
       "  <tbody>\n",
       "    <tr>\n",
       "      <th>LR</th>\n",
       "      <td>0.899844</td>\n",
       "      <td>0.874582</td>\n",
       "      <td>0.928367</td>\n",
       "      <td>0.276313</td>\n",
       "    </tr>\n",
       "    <tr>\n",
       "      <th>LR Scaled</th>\n",
       "      <td>0.899928</td>\n",
       "      <td>0.874582</td>\n",
       "      <td>0.928367</td>\n",
       "      <td>0.278143</td>\n",
       "    </tr>\n",
       "    <tr>\n",
       "      <th>LDA</th>\n",
       "      <td>0.901511</td>\n",
       "      <td>0.869565</td>\n",
       "      <td>0.925144</td>\n",
       "      <td>0.277399</td>\n",
       "    </tr>\n",
       "    <tr>\n",
       "      <th>DT</th>\n",
       "      <td>0.867844</td>\n",
       "      <td>0.864548</td>\n",
       "      <td>0.924228</td>\n",
       "      <td>0.404662</td>\n",
       "    </tr>\n",
       "  </tbody>\n",
       "</table>\n",
       "</div>"
      ],
      "text/plain": [
       "            ROC-AUC  Accuracy        F1   LogLoss\n",
       "LR         0.899844  0.874582  0.928367  0.276313\n",
       "LR Scaled  0.899928  0.874582  0.928367  0.278143\n",
       "LDA        0.901511  0.869565  0.925144  0.277399\n",
       "DT         0.867844  0.864548  0.924228  0.404662"
      ]
     },
     "execution_count": 16,
     "metadata": {},
     "output_type": "execute_result"
    }
   ],
   "source": [
    "outsample_results = {}\n",
    "\n",
    "for name, model in best_models.items():\n",
    "    # Prediksi class dan probabilitas pada data outsample\n",
    "    y_pred = model.predict(x_outsample)\n",
    "    \n",
    "    if hasattr(model, \"predict_proba\"):\n",
    "        y_proba = model.predict_proba(x_outsample)[:,1]  # <-- pastikan ini outsample\n",
    "    else:\n",
    "        y_proba = None\n",
    "\n",
    "    outsample_results[name] = {\n",
    "        \"ROC-AUC\": roc_auc_score(y_outsample, y_proba) if y_proba is not None else None,\n",
    "        \"Accuracy\": accuracy_score(y_outsample, y_pred),\n",
    "        \"F1\": f1_score(y_outsample, y_pred),\n",
    "        \"LogLoss\": log_loss(y_outsample, y_proba) if y_proba is not None else None\n",
    "    }\n",
    "\n",
    "outsample_df = pd.DataFrame(outsample_results).T\n",
    "outsample_df\n"
   ]
  },
  {
   "cell_type": "code",
   "execution_count": 18,
   "id": "bd1ea07d",
   "metadata": {},
   "outputs": [],
   "source": [
    "import numpy as np"
   ]
  },
  {
   "cell_type": "code",
   "execution_count": 19,
   "id": "86198fc1",
   "metadata": {},
   "outputs": [
    {
     "name": "stdout",
     "output_type": "stream",
     "text": [
      "           Rademacher Complexity  Hoeffding Excess Risk  Gap Risk  \\\n",
      "LR                      0.008984              -0.004467  0.004467   \n",
      "LR Scaled               0.011224              -0.004094  0.004094   \n",
      "LDA                     0.009717              -0.003730  0.003730   \n",
      "DT                      0.009412               0.001287 -0.001287   \n",
      "\n",
      "           Train Accuracy  Test Accuracy  \n",
      "LR               0.870115       0.874582  \n",
      "LR Scaled        0.870488       0.874582  \n",
      "LDA              0.865836       0.869565  \n",
      "DT               0.865836       0.864548  \n"
     ]
    }
   ],
   "source": [
    "# Fungsi evaluasi model\n",
    "def evaluate_model_stats(model, x_train, y_train, x_test, y_test, n_rademacher=100):\n",
    "    \"\"\"\n",
    "    Menghitung 3 statistik:\n",
    "    - Rademacher complexity (aproksimasi sederhana)\n",
    "    - Hoeffding excess risk\n",
    "    - Gap risk\n",
    "    \"\"\"\n",
    "    # Prediksi\n",
    "    y_train_pred = model.predict(x_train)\n",
    "    y_test_pred = model.predict(x_test)\n",
    "\n",
    "    # 1. Rademacher complexity (aproksimasi sederhana)\n",
    "    n_samples = x_train.shape[0]\n",
    "    rademacher_scores = []\n",
    "    for _ in range(n_rademacher):\n",
    "        sigma = np.random.choice([-1, 1], size=n_samples)\n",
    "        score = np.mean(sigma * (y_train_pred == y_train))\n",
    "        rademacher_scores.append(score)\n",
    "    rademacher_complexity = np.mean(np.abs(rademacher_scores))\n",
    "\n",
    "    # 2. Hoeffding excess risk\n",
    "    train_acc = accuracy_score(y_train, y_train_pred)\n",
    "    test_acc = accuracy_score(y_test, y_test_pred)\n",
    "    hoeffding_excess_risk = train_acc - test_acc\n",
    "\n",
    "    # 3. Gap risk\n",
    "    gap_risk = test_acc - train_acc\n",
    "\n",
    "    return {\n",
    "        \"Rademacher Complexity\": rademacher_complexity,\n",
    "        \"Hoeffding Excess Risk\": hoeffding_excess_risk,\n",
    "        \"Gap Risk\": gap_risk,\n",
    "        \"Train Accuracy\": train_acc,\n",
    "        \"Test Accuracy\": test_acc\n",
    "    }\n",
    "\n",
    "# Evaluasi semua model di best_models\n",
    "stats_df = pd.DataFrame({\n",
    "    name: evaluate_model_stats(model, x_insample, y_insample, x_outsample, y_outsample)\n",
    "    for name, model in best_models.items()\n",
    "}).T\n",
    "\n",
    "print(stats_df)\n"
   ]
  },
  {
   "cell_type": "code",
   "execution_count": 20,
   "id": "31ba5b56",
   "metadata": {},
   "outputs": [
    {
     "data": {
      "image/png": "[encoded data removed]",
      "text/plain": [
       "<Figure size 1000x600 with 1 Axes>"
      ]
     },
     "metadata": {},
     "output_type": "display_data"
    }
   ],
   "source": [
    "import matplotlib.pyplot as plt\n",
    "import seaborn as sns\n",
    "\n",
    "# Ubah ke format long\n",
    "plot_df = stats_df.reset_index().melt(\n",
    "    id_vars=\"index\",\n",
    "    value_vars=[\"Rademacher Complexity\", \"Hoeffding Excess Risk\", \"Gap Risk\"],\n",
    "    var_name=\"Metric\",\n",
    "    value_name=\"Score\"\n",
    ")\n",
    "\n",
    "plot_df.rename(columns={\"index\": \"Model\"}, inplace=True)\n",
    "\n",
    "plt.figure(figsize=(10,6))\n",
    "sns.barplot(data=plot_df, x=\"Model\", y=\"Score\", hue=\"Metric\")\n",
    "plt.title(\"Perbandingan Statistik Model\")\n",
    "plt.xticks(rotation=45)\n",
    "plt.show()\n"
   ]
  }
 ],
 "metadata": {
  "kernelspec": {
   "display_name": "Python 3",
   "language": "python",
   "name": "python3"
  },
  "language_info": {
   "codemirror_mode": {
    "name": "ipython",
    "version": 3
   },
   "file_extension": ".py",
   "mimetype": "text/x-python",
   "name": "python",
   "nbconvert_exporter": "python",
   "pygments_lexer": "ipython3",
   "version": "3.11.9"
  }
 },
 "nbformat": 4,
 "nbformat_minor": 5
}
