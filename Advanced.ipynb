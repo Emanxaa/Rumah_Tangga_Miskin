{
 "cells": [
  {
   "cell_type": "code",
   "execution_count": 4,
   "id": "c6849779",
   "metadata": {},
   "outputs": [],
   "source": [
    "import pandas as pd\n",
    "import numpy as np\n",
    "from sklearn.model_selection import train_test_split, RandomizedSearchCV, StratifiedKFold\n",
    "from sklearn.preprocessing import StandardScaler\n",
    "from sklearn.pipeline import Pipeline\n",
    "from sklearn.metrics import roc_auc_score, accuracy_score, f1_score, log_loss\n"
   ]
  },
  {
   "cell_type": "code",
   "execution_count": 5,
   "id": "06621a3c",
   "metadata": {},
   "outputs": [],
   "source": [
    "# Classifiers\n",
    "from sklearn.linear_model import LogisticRegression \n",
    "from sklearn.svm import SVC\n",
    "from sklearn.neighbors import KNeighborsClassifier\n",
    "from sklearn.neural_network import MLPClassifier\n",
    "from sklearn.naive_bayes import GaussianNB, MultinomialNB, BernoulliNB\n",
    "from sklearn.model_selection import KFold"
   ]
  },
  {
   "cell_type": "code",
   "execution_count": 6,
   "id": "b46b478f",
   "metadata": {},
   "outputs": [
    {
     "data": {
      "application/vnd.microsoft.datawrangler.viewer.v0+json": {
       "columns": [
        {
         "name": "index",
         "rawType": "int64",
         "type": "integer"
        },
        {
         "name": "Y",
         "rawType": "int64",
         "type": "integer"
        },
        {
         "name": "X1",
         "rawType": "int64",
         "type": "integer"
        },
        {
         "name": "X2",
         "rawType": "int64",
         "type": "integer"
        },
        {
         "name": "X3",
         "rawType": "int64",
         "type": "integer"
        },
        {
         "name": "X4",
         "rawType": "int64",
         "type": "integer"
        },
        {
         "name": "X5",
         "rawType": "int64",
         "type": "integer"
        },
        {
         "name": "X6",
         "rawType": "int64",
         "type": "integer"
        },
        {
         "name": "X7",
         "rawType": "int64",
         "type": "integer"
        },
        {
         "name": "X8",
         "rawType": "int64",
         "type": "integer"
        },
        {
         "name": "X9",
         "rawType": "int64",
         "type": "integer"
        },
        {
         "name": "X10",
         "rawType": "int64",
         "type": "integer"
        },
        {
         "name": "X11",
         "rawType": "int64",
         "type": "integer"
        },
        {
         "name": "X12",
         "rawType": "int64",
         "type": "integer"
        },
        {
         "name": "X13",
         "rawType": "int64",
         "type": "integer"
        },
        {
         "name": "X14",
         "rawType": "int64",
         "type": "integer"
        },
        {
         "name": "X15",
         "rawType": "int64",
         "type": "integer"
        },
        {
         "name": "X16",
         "rawType": "int64",
         "type": "integer"
        },
        {
         "name": "X17",
         "rawType": "int64",
         "type": "integer"
        }
       ],
       "ref": "cece3a7a-3ed6-4b58-9ac4-2cd795349c00",
       "rows": [
        [
         "0",
         "1",
         "1",
         "60",
         "1",
         "2",
         "1",
         "7",
         "7",
         "1",
         "5",
         "5",
         "1",
         "5",
         "5",
         "2",
         "83",
         "13",
         "0"
        ],
        [
         "1",
         "1",
         "1",
         "54",
         "1",
         "2",
         "1",
         "7",
         "7",
         "1",
         "5",
         "5",
         "5",
         "5",
         "5",
         "4",
         "80",
         "3",
         "0"
        ]
       ],
       "shape": {
        "columns": 18,
        "rows": 2
       }
      },
      "text/html": [
       "<div>\n",
       "<style scoped>\n",
       "    .dataframe tbody tr th:only-of-type {\n",
       "        vertical-align: middle;\n",
       "    }\n",
       "\n",
       "    .dataframe tbody tr th {\n",
       "        vertical-align: top;\n",
       "    }\n",
       "\n",
       "    .dataframe thead th {\n",
       "        text-align: right;\n",
       "    }\n",
       "</style>\n",
       "<table border=\"1\" class=\"dataframe\">\n",
       "  <thead>\n",
       "    <tr style=\"text-align: right;\">\n",
       "      <th></th>\n",
       "      <th>Y</th>\n",
       "      <th>X1</th>\n",
       "      <th>X2</th>\n",
       "      <th>X3</th>\n",
       "      <th>X4</th>\n",
       "      <th>X5</th>\n",
       "      <th>X6</th>\n",
       "      <th>X7</th>\n",
       "      <th>X8</th>\n",
       "      <th>X9</th>\n",
       "      <th>X10</th>\n",
       "      <th>X11</th>\n",
       "      <th>X12</th>\n",
       "      <th>X13</th>\n",
       "      <th>X14</th>\n",
       "      <th>X15</th>\n",
       "      <th>X16</th>\n",
       "      <th>X17</th>\n",
       "    </tr>\n",
       "  </thead>\n",
       "  <tbody>\n",
       "    <tr>\n",
       "      <th>0</th>\n",
       "      <td>1</td>\n",
       "      <td>1</td>\n",
       "      <td>60</td>\n",
       "      <td>1</td>\n",
       "      <td>2</td>\n",
       "      <td>1</td>\n",
       "      <td>7</td>\n",
       "      <td>7</td>\n",
       "      <td>1</td>\n",
       "      <td>5</td>\n",
       "      <td>5</td>\n",
       "      <td>1</td>\n",
       "      <td>5</td>\n",
       "      <td>5</td>\n",
       "      <td>2</td>\n",
       "      <td>83</td>\n",
       "      <td>13</td>\n",
       "      <td>0</td>\n",
       "    </tr>\n",
       "    <tr>\n",
       "      <th>1</th>\n",
       "      <td>1</td>\n",
       "      <td>1</td>\n",
       "      <td>54</td>\n",
       "      <td>1</td>\n",
       "      <td>2</td>\n",
       "      <td>1</td>\n",
       "      <td>7</td>\n",
       "      <td>7</td>\n",
       "      <td>1</td>\n",
       "      <td>5</td>\n",
       "      <td>5</td>\n",
       "      <td>5</td>\n",
       "      <td>5</td>\n",
       "      <td>5</td>\n",
       "      <td>4</td>\n",
       "      <td>80</td>\n",
       "      <td>3</td>\n",
       "      <td>0</td>\n",
       "    </tr>\n",
       "  </tbody>\n",
       "</table>\n",
       "</div>"
      ],
      "text/plain": [
       "   Y  X1  X2  X3  X4  X5  X6  X7  X8  X9  X10  X11  X12  X13  X14  X15  X16  \\\n",
       "0  1   1  60   1   2   1   7   7   1   5    5    1    5    5    2   83   13   \n",
       "1  1   1  54   1   2   1   7   7   1   5    5    5    5    5    4   80    3   \n",
       "\n",
       "   X17  \n",
       "0    0  \n",
       "1    0  "
      ]
     },
     "execution_count": 6,
     "metadata": {},
     "output_type": "execute_result"
    }
   ],
   "source": [
    "data=pd.read_excel(\"D:\\DATAS\\ALDEN\\DATA ALDEN.xlsx\")\n",
    "df=data.drop(columns='Kab')\n",
    "df.head(2)"
   ]
  },
  {
   "cell_type": "code",
   "execution_count": 7,
   "id": "00d596aa",
   "metadata": {},
   "outputs": [],
   "source": [
    "x=df.drop(columns='Y')\n",
    "y=df['Y']"
   ]
  },
  {
   "cell_type": "code",
   "execution_count": 8,
   "id": "1a3493d3",
   "metadata": {},
   "outputs": [],
   "source": [
    "x_insample, x_outsample, y_insample, y_outsample = train_test_split(x,y, test_size=0.1, random_state=42,shuffle=True)"
   ]
  },
  {
   "cell_type": "code",
   "execution_count": 9,
   "id": "dd0daf35",
   "metadata": {},
   "outputs": [],
   "source": [
    "# --- Define Models & Pipelines ---\n",
    "models = {\n",
    "    \"LogisticRegression\": Pipeline([\n",
    "        ('scaler', StandardScaler()),\n",
    "        ('lr', LogisticRegression(max_iter=1000))\n",
    "    ]),\n",
    "    \"SVC\": Pipeline([\n",
    "        ('scaler', StandardScaler()),\n",
    "        ('svc', SVC(probability=True))\n",
    "    ]),\n",
    "    \"KNN\": Pipeline([\n",
    "        ('scaler', StandardScaler()),\n",
    "        ('knn', KNeighborsClassifier())\n",
    "    ]),\n",
    "    \"MLP\": Pipeline([\n",
    "        ('scaler', StandardScaler()),\n",
    "        ('mlp', MLPClassifier(max_iter=500))\n",
    "    ]),\n",
    "    \"GaussianNB\": GaussianNB(),\n",
    "    \"MultinomialNB\": MultinomialNB(),\n",
    "    \"BernoulliNB\": BernoulliNB()\n",
    "}\n"
   ]
  },
  {
   "cell_type": "code",
   "execution_count": 10,
   "id": "8ac18cfa",
   "metadata": {},
   "outputs": [],
   "source": [
    "# --- Hyperparameter grids ---\n",
    "param_distributions = {\n",
    "    \"LogisticRegression\": {\n",
    "        'lr__C': np.logspace(-3, 2, 10),\n",
    "        'lr__penalty': ['l2'],\n",
    "        'lr__solver': ['lbfgs', 'saga']\n",
    "    },\n",
    "    \"SVC\": {\n",
    "        'svc__C': [0.1, 1, 10],\n",
    "        'svc__kernel': ['linear', 'rbf', 'poly'],\n",
    "        'svc__gamma': ['scale', 'auto']\n",
    "    },\n",
    "    \"KNN\": {\n",
    "        'knn__n_neighbors': [3,5,7,9],\n",
    "        'knn__weights': ['uniform','distance'],\n",
    "        'knn__metric': ['minkowski','euclidean','manhattan']\n",
    "    },\n",
    "    \"MLP\": {\n",
    "        'mlp__hidden_layer_sizes': [(50,), (100,), (50,50)],\n",
    "        'mlp__activation': ['relu','tanh'],\n",
    "        'mlp__alpha': [0.0001, 0.001, 0.01]\n",
    "    },\n",
    "    \"GaussianNB\": {},\n",
    "    \"MultinomialNB\": {\n",
    "        'alpha': [0.1,0.5,1.0]\n",
    "    },\n",
    "    \"BernoulliNB\": {\n",
    "        'alpha': [0.1,0.5,1.0],\n",
    "        'binarize': [0.0,0.5,1.0]\n",
    "    }\n",
    "}"
   ]
  },
  {
   "cell_type": "code",
   "execution_count": 11,
   "id": "e15da017",
   "metadata": {},
   "outputs": [],
   "source": [
    "# --- Cross-validation ---\n",
    "cv = KFold(n_splits=10, shuffle=True, random_state=42)"
   ]
  },
  {
   "cell_type": "code",
   "execution_count": 12,
   "id": "442da38f",
   "metadata": {},
   "outputs": [],
   "source": [
    "# --- Train & Tune ---\n",
    "best_models = {}\n",
    "results = {}"
   ]
  },
  {
   "cell_type": "code",
   "execution_count": 15,
   "id": "db759b03",
   "metadata": {},
   "outputs": [
    {
     "name": "stdout",
     "output_type": "stream",
     "text": [
      "\n",
      "Tuning LogisticRegression...\n",
      "\n",
      "Tuning SVC...\n"
     ]
    },
    {
     "name": "stderr",
     "output_type": "stream",
     "text": [
      "c:\\Users\\emanu\\AppData\\Local\\Programs\\Python\\Python311\\Lib\\site-packages\\sklearn\\model_selection\\_search.py:318: UserWarning: The total space of parameters 18 is smaller than n_iter=20. Running 18 iterations. For exhaustive searches, use GridSearchCV.\n",
      "  warnings.warn(\n"
     ]
    },
    {
     "name": "stdout",
     "output_type": "stream",
     "text": [
      "\n",
      "Tuning KNN...\n",
      "\n",
      "Tuning MLP...\n"
     ]
    },
    {
     "name": "stderr",
     "output_type": "stream",
     "text": [
      "c:\\Users\\emanu\\AppData\\Local\\Programs\\Python\\Python311\\Lib\\site-packages\\sklearn\\model_selection\\_search.py:318: UserWarning: The total space of parameters 18 is smaller than n_iter=20. Running 18 iterations. For exhaustive searches, use GridSearchCV.\n",
      "  warnings.warn(\n",
      "c:\\Users\\emanu\\AppData\\Local\\Programs\\Python\\Python311\\Lib\\site-packages\\sklearn\\neural_network\\_multilayer_perceptron.py:691: ConvergenceWarning: Stochastic Optimizer: Maximum iterations (500) reached and the optimization hasn't converged yet.\n",
      "  warnings.warn(\n",
      "c:\\Users\\emanu\\AppData\\Local\\Programs\\Python\\Python311\\Lib\\site-packages\\sklearn\\model_selection\\_search.py:318: UserWarning: The total space of parameters 3 is smaller than n_iter=20. Running 3 iterations. For exhaustive searches, use GridSearchCV.\n",
      "  warnings.warn(\n",
      "c:\\Users\\emanu\\AppData\\Local\\Programs\\Python\\Python311\\Lib\\site-packages\\sklearn\\model_selection\\_search.py:318: UserWarning: The total space of parameters 9 is smaller than n_iter=20. Running 9 iterations. For exhaustive searches, use GridSearchCV.\n",
      "  warnings.warn(\n"
     ]
    },
    {
     "name": "stdout",
     "output_type": "stream",
     "text": [
      "\n",
      "Tuning GaussianNB...\n",
      "\n",
      "Tuning MultinomialNB...\n",
      "\n",
      "Tuning BernoulliNB...\n"
     ]
    }
   ],
   "source": [
    "for name, model in models.items():\n",
    "    print(f\"\\nTuning {name}...\")\n",
    "    if param_distributions[name]:\n",
    "        search = RandomizedSearchCV(\n",
    "            estimator=model,\n",
    "            param_distributions=param_distributions[name],\n",
    "            n_iter=20,\n",
    "            cv=cv,\n",
    "            scoring='roc_auc',\n",
    "            random_state=42,\n",
    "            n_jobs=-1\n",
    "        )\n",
    "    else:\n",
    "        search = model  # Model without hyperparameters\n",
    "\n",
    "    search.fit(x_insample,y_insample)\n",
    "    \n",
    "    # Save best model\n",
    "    best_models[name] = search.best_estimator_ if param_distributions[name] else search\n",
    "    \n",
    "    # Predictions\n",
    "    y_pred = best_models[name].predict(x_outsample)\n",
    "    try:\n",
    "        y_proba = best_models[name].predict_proba(x_outsample)[:,1]\n",
    "    except:\n",
    "        y_proba = None\n",
    "    \n",
    "    # Metrics\n",
    "    results[name] = {\n",
    "        \"Best Params\": search.best_params_ if param_distributions[name] else None,\n",
    "        \"ROC-AUC\": roc_auc_score(y_outsample, y_proba) if y_proba is not None else None,\n",
    "        \"Accuracy\": accuracy_score(y_outsample, y_pred),\n",
    "        \"F1\": f1_score(y_outsample, y_pred)\n",
    "    }"
   ]
  },
  {
   "cell_type": "code",
   "execution_count": 17,
   "id": "1b980fbd",
   "metadata": {},
   "outputs": [
    {
     "name": "stdout",
     "output_type": "stream",
     "text": [
      "                                                          Best Params  \\\n",
      "LogisticRegression  {'lr__solver': 'lbfgs', 'lr__penalty': 'l2', '...   \n",
      "SVC                 {'svc__kernel': 'linear', 'svc__gamma': 'scale...   \n",
      "KNN                 {'knn__weights': 'distance', 'knn__n_neighbors...   \n",
      "MLP                 {'mlp__hidden_layer_sizes': (50,), 'mlp__alpha...   \n",
      "GaussianNB                                                        NaN   \n",
      "MultinomialNB                                          {'alpha': 0.5}   \n",
      "BernoulliNB                           {'binarize': 1.0, 'alpha': 0.1}   \n",
      "\n",
      "                     ROC-AUC  Accuracy        F1  \n",
      "LogisticRegression  0.899569  0.874582  0.928639  \n",
      "SVC                 0.879686  0.842809  0.914701  \n",
      "KNN                 0.816046  0.859532  0.920304  \n",
      "MLP                 0.868815  0.856187  0.917308  \n",
      "GaussianNB          0.848045  0.575251  0.668407  \n",
      "MultinomialNB       0.782738  0.704013       0.8  \n",
      "BernoulliNB         0.798653   0.82107  0.893744  \n"
     ]
    }
   ],
   "source": [
    "# --- Results DataFrame ---\n",
    "results_df = pd.DataFrame(results).T\n",
    "print(results_df)"
   ]
  },
  {
   "cell_type": "code",
   "execution_count": 18,
   "id": "e12f8c5e",
   "metadata": {},
   "outputs": [
    {
     "data": {
      "application/vnd.microsoft.datawrangler.viewer.v0+json": {
       "columns": [
        {
         "name": "index",
         "rawType": "object",
         "type": "string"
        },
        {
         "name": "Best Params",
         "rawType": "object",
         "type": "unknown"
        },
        {
         "name": "ROC-AUC",
         "rawType": "object",
         "type": "unknown"
        },
        {
         "name": "Accuracy",
         "rawType": "object",
         "type": "unknown"
        },
        {
         "name": "F1",
         "rawType": "object",
         "type": "unknown"
        }
       ],
       "ref": "8730d4d7-d396-445e-b627-06455d66c8b9",
       "rows": [
        [
         "LogisticRegression",
         "{'lr__solver': 'lbfgs', 'lr__penalty': 'l2', 'lr__C': 0.046415888336127795}",
         "0.8995694022289766",
         "0.8745819397993311",
         "0.928639391056137"
        ],
        [
         "SVC",
         "{'svc__kernel': 'linear', 'svc__gamma': 'scale', 'svc__C': 1}",
         "0.8796859169199596",
         "0.842809364548495",
         "0.9147005444646098"
        ],
        [
         "KNN",
         "{'knn__weights': 'distance', 'knn__n_neighbors': 9, 'knn__metric': 'manhattan'}",
         "0.8160460992907802",
         "0.8595317725752508",
         "0.920303605313093"
        ],
        [
         "MLP",
         "{'mlp__hidden_layer_sizes': (50,), 'mlp__alpha': 0.0001, 'mlp__activation': 'relu'}",
         "0.8688154339750084",
         "0.8561872909698997",
         "0.9173076923076923"
        ],
        [
         "GaussianNB",
         null,
         "0.8480454238432961",
         "0.5752508361204013",
         "0.6684073107049608"
        ],
        [
         "MultinomialNB",
         "{'alpha': 0.5}",
         "0.7827380952380952",
         "0.7040133779264214",
         "0.8"
        ],
        [
         "BernoulliNB",
         "{'binarize': 1.0, 'alpha': 0.1}",
         "0.7986533265788585",
         "0.8210702341137124",
         "0.8937437934458788"
        ]
       ],
       "shape": {
        "columns": 4,
        "rows": 7
       }
      },
      "text/html": [
       "<div>\n",
       "<style scoped>\n",
       "    .dataframe tbody tr th:only-of-type {\n",
       "        vertical-align: middle;\n",
       "    }\n",
       "\n",
       "    .dataframe tbody tr th {\n",
       "        vertical-align: top;\n",
       "    }\n",
       "\n",
       "    .dataframe thead th {\n",
       "        text-align: right;\n",
       "    }\n",
       "</style>\n",
       "<table border=\"1\" class=\"dataframe\">\n",
       "  <thead>\n",
       "    <tr style=\"text-align: right;\">\n",
       "      <th></th>\n",
       "      <th>Best Params</th>\n",
       "      <th>ROC-AUC</th>\n",
       "      <th>Accuracy</th>\n",
       "      <th>F1</th>\n",
       "    </tr>\n",
       "  </thead>\n",
       "  <tbody>\n",
       "    <tr>\n",
       "      <th>LogisticRegression</th>\n",
       "      <td>{'lr__solver': 'lbfgs', 'lr__penalty': 'l2', '...</td>\n",
       "      <td>0.899569</td>\n",
       "      <td>0.874582</td>\n",
       "      <td>0.928639</td>\n",
       "    </tr>\n",
       "    <tr>\n",
       "      <th>SVC</th>\n",
       "      <td>{'svc__kernel': 'linear', 'svc__gamma': 'scale...</td>\n",
       "      <td>0.879686</td>\n",
       "      <td>0.842809</td>\n",
       "      <td>0.914701</td>\n",
       "    </tr>\n",
       "    <tr>\n",
       "      <th>KNN</th>\n",
       "      <td>{'knn__weights': 'distance', 'knn__n_neighbors...</td>\n",
       "      <td>0.816046</td>\n",
       "      <td>0.859532</td>\n",
       "      <td>0.920304</td>\n",
       "    </tr>\n",
       "    <tr>\n",
       "      <th>MLP</th>\n",
       "      <td>{'mlp__hidden_layer_sizes': (50,), 'mlp__alpha...</td>\n",
       "      <td>0.868815</td>\n",
       "      <td>0.856187</td>\n",
       "      <td>0.917308</td>\n",
       "    </tr>\n",
       "    <tr>\n",
       "      <th>GaussianNB</th>\n",
       "      <td>NaN</td>\n",
       "      <td>0.848045</td>\n",
       "      <td>0.575251</td>\n",
       "      <td>0.668407</td>\n",
       "    </tr>\n",
       "    <tr>\n",
       "      <th>MultinomialNB</th>\n",
       "      <td>{'alpha': 0.5}</td>\n",
       "      <td>0.782738</td>\n",
       "      <td>0.704013</td>\n",
       "      <td>0.8</td>\n",
       "    </tr>\n",
       "    <tr>\n",
       "      <th>BernoulliNB</th>\n",
       "      <td>{'binarize': 1.0, 'alpha': 0.1}</td>\n",
       "      <td>0.798653</td>\n",
       "      <td>0.82107</td>\n",
       "      <td>0.893744</td>\n",
       "    </tr>\n",
       "  </tbody>\n",
       "</table>\n",
       "</div>"
      ],
      "text/plain": [
       "                                                          Best Params  \\\n",
       "LogisticRegression  {'lr__solver': 'lbfgs', 'lr__penalty': 'l2', '...   \n",
       "SVC                 {'svc__kernel': 'linear', 'svc__gamma': 'scale...   \n",
       "KNN                 {'knn__weights': 'distance', 'knn__n_neighbors...   \n",
       "MLP                 {'mlp__hidden_layer_sizes': (50,), 'mlp__alpha...   \n",
       "GaussianNB                                                        NaN   \n",
       "MultinomialNB                                          {'alpha': 0.5}   \n",
       "BernoulliNB                           {'binarize': 1.0, 'alpha': 0.1}   \n",
       "\n",
       "                     ROC-AUC  Accuracy        F1  \n",
       "LogisticRegression  0.899569  0.874582  0.928639  \n",
       "SVC                 0.879686  0.842809  0.914701  \n",
       "KNN                 0.816046  0.859532  0.920304  \n",
       "MLP                 0.868815  0.856187  0.917308  \n",
       "GaussianNB          0.848045  0.575251  0.668407  \n",
       "MultinomialNB       0.782738  0.704013       0.8  \n",
       "BernoulliNB         0.798653   0.82107  0.893744  "
      ]
     },
     "execution_count": 18,
     "metadata": {},
     "output_type": "execute_result"
    }
   ],
   "source": [
    "results_df"
   ]
  },
  {
   "cell_type": "code",
   "execution_count": 19,
   "id": "3dc8b794",
   "metadata": {},
   "outputs": [
    {
     "data": {
      "application/vnd.microsoft.datawrangler.viewer.v0+json": {
       "columns": [
        {
         "name": "index",
         "rawType": "object",
         "type": "string"
        },
        {
         "name": "ROC-AUC",
         "rawType": "float64",
         "type": "float"
        },
        {
         "name": "Accuracy",
         "rawType": "float64",
         "type": "float"
        },
        {
         "name": "F1",
         "rawType": "float64",
         "type": "float"
        },
        {
         "name": "LogLoss",
         "rawType": "float64",
         "type": "float"
        }
       ],
       "ref": "bf869d1e-b9fa-42b2-a30e-f65e1024bea3",
       "rows": [
        [
         "LogisticRegression",
         "0.8995694022289766",
         "0.8745819397993311",
         "0.928639391056137",
         "0.2776334637615357"
        ],
        [
         "SVC",
         "0.8796859169199596",
         "0.842809364548495",
         "0.9147005444646098",
         "0.3196662850933041"
        ],
        [
         "KNN",
         "0.8160460992907802",
         "0.8595317725752508",
         "0.920303605313093",
         "1.0845238640150177"
        ],
        [
         "MLP",
         "0.8688154339750084",
         "0.8561872909698997",
         "0.9173076923076923",
         "0.3230641203041185"
        ],
        [
         "GaussianNB",
         "0.8480454238432961",
         "0.5752508361204013",
         "0.6684073107049608",
         "1.953731594685561"
        ],
        [
         "MultinomialNB",
         "0.7827380952380952",
         "0.7040133779264214",
         "0.8",
         "0.8683016706971484"
        ],
        [
         "BernoulliNB",
         "0.7986533265788585",
         "0.8210702341137124",
         "0.8937437934458788",
         "0.3713400358609199"
        ]
       ],
       "shape": {
        "columns": 4,
        "rows": 7
       }
      },
      "text/html": [
       "<div>\n",
       "<style scoped>\n",
       "    .dataframe tbody tr th:only-of-type {\n",
       "        vertical-align: middle;\n",
       "    }\n",
       "\n",
       "    .dataframe tbody tr th {\n",
       "        vertical-align: top;\n",
       "    }\n",
       "\n",
       "    .dataframe thead th {\n",
       "        text-align: right;\n",
       "    }\n",
       "</style>\n",
       "<table border=\"1\" class=\"dataframe\">\n",
       "  <thead>\n",
       "    <tr style=\"text-align: right;\">\n",
       "      <th></th>\n",
       "      <th>ROC-AUC</th>\n",
       "      <th>Accuracy</th>\n",
       "      <th>F1</th>\n",
       "      <th>LogLoss</th>\n",
       "    </tr>\n",
       "  </thead>\n",
       "  <tbody>\n",
       "    <tr>\n",
       "      <th>LogisticRegression</th>\n",
       "      <td>0.899569</td>\n",
       "      <td>0.874582</td>\n",
       "      <td>0.928639</td>\n",
       "      <td>0.277633</td>\n",
       "    </tr>\n",
       "    <tr>\n",
       "      <th>SVC</th>\n",
       "      <td>0.879686</td>\n",
       "      <td>0.842809</td>\n",
       "      <td>0.914701</td>\n",
       "      <td>0.319666</td>\n",
       "    </tr>\n",
       "    <tr>\n",
       "      <th>KNN</th>\n",
       "      <td>0.816046</td>\n",
       "      <td>0.859532</td>\n",
       "      <td>0.920304</td>\n",
       "      <td>1.084524</td>\n",
       "    </tr>\n",
       "    <tr>\n",
       "      <th>MLP</th>\n",
       "      <td>0.868815</td>\n",
       "      <td>0.856187</td>\n",
       "      <td>0.917308</td>\n",
       "      <td>0.323064</td>\n",
       "    </tr>\n",
       "    <tr>\n",
       "      <th>GaussianNB</th>\n",
       "      <td>0.848045</td>\n",
       "      <td>0.575251</td>\n",
       "      <td>0.668407</td>\n",
       "      <td>1.953732</td>\n",
       "    </tr>\n",
       "    <tr>\n",
       "      <th>MultinomialNB</th>\n",
       "      <td>0.782738</td>\n",
       "      <td>0.704013</td>\n",
       "      <td>0.800000</td>\n",
       "      <td>0.868302</td>\n",
       "    </tr>\n",
       "    <tr>\n",
       "      <th>BernoulliNB</th>\n",
       "      <td>0.798653</td>\n",
       "      <td>0.821070</td>\n",
       "      <td>0.893744</td>\n",
       "      <td>0.371340</td>\n",
       "    </tr>\n",
       "  </tbody>\n",
       "</table>\n",
       "</div>"
      ],
      "text/plain": [
       "                     ROC-AUC  Accuracy        F1   LogLoss\n",
       "LogisticRegression  0.899569  0.874582  0.928639  0.277633\n",
       "SVC                 0.879686  0.842809  0.914701  0.319666\n",
       "KNN                 0.816046  0.859532  0.920304  1.084524\n",
       "MLP                 0.868815  0.856187  0.917308  0.323064\n",
       "GaussianNB          0.848045  0.575251  0.668407  1.953732\n",
       "MultinomialNB       0.782738  0.704013  0.800000  0.868302\n",
       "BernoulliNB         0.798653  0.821070  0.893744  0.371340"
      ]
     },
     "execution_count": 19,
     "metadata": {},
     "output_type": "execute_result"
    }
   ],
   "source": [
    "outsample_results = {}\n",
    "\n",
    "for name, model in best_models.items():\n",
    "    # Prediksi class dan probabilitas pada data outsample\n",
    "    y_pred = model.predict(x_outsample)\n",
    "    \n",
    "    if hasattr(model, \"predict_proba\"):\n",
    "        y_proba = model.predict_proba(x_outsample)[:,1]  # <-- pastikan ini outsample\n",
    "    else:\n",
    "        y_proba = None\n",
    "\n",
    "    outsample_results[name] = {\n",
    "        \"ROC-AUC\": roc_auc_score(y_outsample, y_proba) if y_proba is not None else None,\n",
    "        \"Accuracy\": accuracy_score(y_outsample, y_pred),\n",
    "        \"F1\": f1_score(y_outsample, y_pred),\n",
    "        \"LogLoss\": log_loss(y_outsample, y_proba) if y_proba is not None else None\n",
    "    }\n",
    "\n",
    "outsample_df = pd.DataFrame(outsample_results).T\n",
    "outsample_df\n"
   ]
  },
  {
   "cell_type": "code",
   "execution_count": 20,
   "id": "ffed00a9",
   "metadata": {},
   "outputs": [
    {
     "name": "stdout",
     "output_type": "stream",
     "text": [
      "                    Rademacher Complexity  Hoeffding Excess Risk  Gap Risk  \\\n",
      "LogisticRegression               0.008790              -0.004094  0.004094   \n",
      "SVC                              0.011474               0.010931 -0.010931   \n",
      "KNN                              0.010878               0.140468 -0.140468   \n",
      "MLP                              0.010782               0.045562 -0.045562   \n",
      "GaussianNB                       0.007603              -0.039337  0.039337   \n",
      "MultinomialNB                    0.009226               0.001792 -0.001792   \n",
      "BernoulliNB                      0.009378              -0.014222  0.014222   \n",
      "\n",
      "                    Train Accuracy  Test Accuracy  \n",
      "LogisticRegression        0.870488       0.874582  \n",
      "SVC                       0.853740       0.842809  \n",
      "KNN                       1.000000       0.859532  \n",
      "MLP                       0.901749       0.856187  \n",
      "GaussianNB                0.535914       0.575251  \n",
      "MultinomialNB             0.705806       0.704013  \n",
      "BernoulliNB               0.806848       0.821070  \n"
     ]
    }
   ],
   "source": [
    "# Fungsi evaluasi model\n",
    "def evaluate_model_stats(model, x_train, y_train, x_test, y_test, n_rademacher=100):\n",
    "    \"\"\"\n",
    "    Menghitung 3 statistik:\n",
    "    - Rademacher complexity (aproksimasi sederhana)\n",
    "    - Hoeffding excess risk\n",
    "    - Gap risk\n",
    "    \"\"\"\n",
    "    # Prediksi\n",
    "    y_train_pred = model.predict(x_train)\n",
    "    y_test_pred = model.predict(x_test)\n",
    "\n",
    "    # 1. Rademacher complexity (aproksimasi sederhana)\n",
    "    n_samples = x_train.shape[0]\n",
    "    rademacher_scores = []\n",
    "    for _ in range(n_rademacher):\n",
    "        sigma = np.random.choice([-1, 1], size=n_samples)\n",
    "        score = np.mean(sigma * (y_train_pred == y_train))\n",
    "        rademacher_scores.append(score)\n",
    "    rademacher_complexity = np.mean(np.abs(rademacher_scores))\n",
    "\n",
    "    # 2. Hoeffding excess risk\n",
    "    train_acc = accuracy_score(y_train, y_train_pred)\n",
    "    test_acc = accuracy_score(y_test, y_test_pred)\n",
    "    hoeffding_excess_risk = train_acc - test_acc\n",
    "\n",
    "    # 3. Gap risk\n",
    "    gap_risk = test_acc - train_acc\n",
    "\n",
    "    return {\n",
    "        \"Rademacher Complexity\": rademacher_complexity,\n",
    "        \"Hoeffding Excess Risk\": hoeffding_excess_risk,\n",
    "        \"Gap Risk\": gap_risk,\n",
    "        \"Train Accuracy\": train_acc,\n",
    "        \"Test Accuracy\": test_acc\n",
    "    }\n",
    "\n",
    "# Evaluasi semua model di best_models\n",
    "stats_df = pd.DataFrame({\n",
    "    name: evaluate_model_stats(model, x_insample, y_insample, x_outsample, y_outsample)\n",
    "    for name, model in best_models.items()\n",
    "}).T\n",
    "\n",
    "print(stats_df)\n"
   ]
  },
  {
   "cell_type": "code",
   "execution_count": 23,
   "id": "83de7e95",
   "metadata": {},
   "outputs": [
    {
     "data": {
      "image/png": "[encoded data removed]",
      "text/plain": [
       "<Figure size 1000x600 with 1 Axes>"
      ]
     },
     "metadata": {},
     "output_type": "display_data"
    }
   ],
   "source": [
    "import matplotlib.pyplot as plt\n",
    "import seaborn as sns\n",
    "\n",
    "# Ubah ke format long\n",
    "plot_df = stats_df.reset_index().melt(\n",
    "    id_vars=\"index\",\n",
    "    value_vars=[\"Rademacher Complexity\", \"Hoeffding Excess Risk\", \"Gap Risk\"],\n",
    "    var_name=\"Metric\",\n",
    "    value_name=\"Score\"\n",
    ")\n",
    "\n",
    "plot_df.rename(columns={\"index\": \"Model\"}, inplace=True)\n",
    "\n",
    "plt.figure(figsize=(10,6))\n",
    "sns.barplot(data=plot_df, x=\"Model\", y=\"Score\", hue=\"Metric\")\n",
    "plt.title(\"Perbandingan Statistik Model\")\n",
    "plt.xticks(rotation=45)\n",
    "plt.show()\n"
   ]
  }
 ],
 "metadata": {
  "kernelspec": {
   "display_name": "Python 3",
   "language": "python",
   "name": "python3"
  },
  "language_info": {
   "codemirror_mode": {
    "name": "ipython",
    "version": 3
   },
   "file_extension": ".py",
   "mimetype": "text/x-python",
   "name": "python",
   "nbconvert_exporter": "python",
   "pygments_lexer": "ipython3",
   "version": "3.11.9"
  }
 },
 "nbformat": 4,
 "nbformat_minor": 5
}
